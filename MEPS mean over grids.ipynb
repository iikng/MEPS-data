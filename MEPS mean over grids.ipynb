{
 "cells": [
  {
   "cell_type": "code",
   "execution_count": 1,
   "id": "e4486197",
   "metadata": {},
   "outputs": [],
   "source": [
    "import netCDF4 \n",
    "import matplotlib.pyplot as plt\n",
    "import numpy as np\n",
    "import pandas as pd\n",
    "import cartopy.crs as ccrs\n",
    "import datetime as dt\n",
    "import xarray as xr\n",
    "import pyproj\n",
    "import requests\n"
   ]
  },
  {
   "cell_type": "code",
   "execution_count": null,
   "id": "ea9921b2",
   "metadata": {},
   "outputs": [],
   "source": [
    "URL = 'https://thredds.met.no/thredds/dodsC/meps25epsarchive/2017/01/01/meps_subset_2_5km_20170101T06Z.nc'\n",
    "variables = ['precipitation_amount_acc', \n",
    "             'air_pressure_at_sea_level', 'air_temperature_2m', \n",
    "             'relative_humidity_2m' , \n",
    "             'air_temperature_lowest_level', \n",
    "             'x_wind_10m', \n",
    "             'y_wind_10m', \n",
    "             'integral_of_surface_downward_sensible_heat_flux_wrt_time', \n",
    "             'integral_of_surface_downwelling_longwave_flux_in_air_wrt_time', \n",
    "             'integral_of_surface_downwelling_shortwave_flux_in_air_wrt_time', \n",
    "             'integral_of_surface_net_downward_shortwave_flux_wrt_time', \n",
    "             'atmosphere_boundary_layer_thickness', \n",
    "             'high_type_cloud_area_fraction', \n",
    "             'low_type_cloud_area_fraction', \n",
    "             'medium_type_cloud_area_fraction', \n",
    "             'cloud_area_fraction', \n",
    "             'fog_area_fraction', \n",
    "             'air_temperature_pl', \n",
    "             'geopotential_pl', \n",
    "             'relative_humidity_pl' , \n",
    "             'x_wind_pl', \n",
    "             'y_wind_pl']\n",
    "\n",
    "ds = xr.open_dataset(URL)\n",
    "\n"
   ]
  },
  {
   "cell_type": "code",
   "execution_count": 2,
   "id": "c2764958",
   "metadata": {},
   "outputs": [],
   "source": [
    "URL = 'https://thredds.met.no/thredds/dodsC/meps25epsarchive/2017/01/01/meps_subset_2_5km_20170101T06Z.nc'\n",
    "ds = xr.open_dataset(URL)\n",
    "\n",
    "variables = ['precipitation_amount_acc', \n",
    "             'air_pressure_at_sea_level', 'air_temperature_2m', \n",
    "             'relative_humidity_2m' , \n",
    "             'air_temperature_lowest_level', \n",
    "             'x_wind_10m', \n",
    "             'y_wind_10m', \n",
    "             'integral_of_surface_downward_sensible_heat_flux_wrt_time', \n",
    "             'integral_of_surface_downwelling_longwave_flux_in_air_wrt_time', \n",
    "             'integral_of_surface_downwelling_shortwave_flux_in_air_wrt_time', \n",
    "             'integral_of_surface_net_downward_shortwave_flux_wrt_time', \n",
    "             'atmosphere_boundary_layer_thickness', \n",
    "             'high_type_cloud_area_fraction', \n",
    "             'low_type_cloud_area_fraction', \n",
    "             'medium_type_cloud_area_fraction', \n",
    "             'cloud_area_fraction', \n",
    "             'fog_area_fraction', \n",
    "             'air_temperature_pl', \n",
    "             'geopotential_pl', \n",
    "             'relative_humidity_pl' , \n",
    "             'x_wind_pl', \n",
    "             'y_wind_pl']\n",
    "\n",
    "\n",
    "# Compute projected coordinates of lat/lon point\n",
    "lon=5.32415\n",
    "lat= 60.39299\n",
    "proj = pyproj.Proj(ds.projection_lambert.proj4) \n",
    "X,Y = proj(lon,lat)\n",
    "dist_threshold = 3000\n",
    "\n",
    "# Find grid nearest lon/lat point\n",
    "#da = ds.sel(x=X,y=Y,method='nearest')\n",
    "# Find row numer of chosen x and y coordinate (for the given lat/lon)\n",
    "ix = ds.indexes['x'].get_loc(X,method='nearest')\n",
    "iy = ds.indexes['y'].get_loc(Y,method='nearest')\n",
    "\n",
    "# Select subset of points around chosen lat/lon to check distance\n",
    "# Here +- 5 is chosen\n",
    "check_points=ds.isel(x=slice(ix-5, ix+5), y=slice(iy-5,iy+5))\n",
    "indx_x = []\n",
    "indx_y = []\n",
    "\n",
    "#calc distance for each x and y in sheck points. \n",
    "for i in range(len(check_points.x)):\n",
    "    for j in range(len(check_points.y)):\n",
    "        dx = abs(check_points.x[i] - X)\n",
    "        dy = abs(check_points.y[j] - Y)\n",
    "        distance = np.sqrt(dx**2 + dy**2)\n",
    "        \n",
    "        # If total distance is less than theshold, add index of point to lists indx_x, indx_y\n",
    "        if distance <= dist_threshold:\n",
    "            indx_x.append(ix - 5 + i)\n",
    "            indx_y.append(iy -5 + j)\n",
    "        else:\n",
    "            continue\n",
    "            \n",
    "# select data from the grids within threshold distance, and take the mean over this dimension\n",
    "xsel=ds.x[indx_x]\n",
    "ysel=ds.y[indx_y]\n",
    "sel_ds = ds.sel(x=xsel,y=ysel)"
   ]
  },
  {
   "cell_type": "code",
   "execution_count": null,
   "id": "b6adcff6",
   "metadata": {},
   "outputs": [],
   "source": [
    "mean = ds.relative_humidity_2m.mean(dim=('x','y'),skipna=True)\n"
   ]
  },
  {
   "cell_type": "code",
   "execution_count": 16,
   "id": "178f3c0f",
   "metadata": {},
   "outputs": [
    {
     "name": "stdout",
     "output_type": "stream",
     "text": [
      "(67, 1, 10, 5, 5)\n"
     ]
    }
   ],
   "source": [
    "print(t2m.shape)"
   ]
  },
  {
   "cell_type": "code",
   "execution_count": 7,
   "id": "02fe21eb",
   "metadata": {
    "scrolled": true
   },
   "outputs": [
    {
     "ename": "IndexError",
     "evalue": "index 351 is out of bounds for axis 3 with size 5",
     "output_type": "error",
     "traceback": [
      "\u001b[1;31m---------------------------------------------------------------------------\u001b[0m",
      "\u001b[1;31mIndexError\u001b[0m                                Traceback (most recent call last)",
      "\u001b[1;32m~\\AppData\\Local\\Temp/ipykernel_12712/2820690857.py\u001b[0m in \u001b[0;36m<module>\u001b[1;34m\u001b[0m\n\u001b[0;32m      1\u001b[0m \u001b[0mt2m\u001b[0m \u001b[1;33m=\u001b[0m \u001b[0msel_ds\u001b[0m\u001b[1;33m.\u001b[0m\u001b[0mair_temperature_2m\u001b[0m\u001b[1;33m.\u001b[0m\u001b[0mvalues\u001b[0m\u001b[1;33m\u001b[0m\u001b[1;33m\u001b[0m\u001b[0m\n\u001b[1;32m----> 2\u001b[1;33m \u001b[0mt2m_mean\u001b[0m \u001b[1;33m=\u001b[0m \u001b[0mnp\u001b[0m\u001b[1;33m.\u001b[0m\u001b[0mnanmean\u001b[0m\u001b[1;33m(\u001b[0m\u001b[0mt2m\u001b[0m\u001b[1;33m[\u001b[0m\u001b[1;33m:\u001b[0m\u001b[1;33m,\u001b[0m\u001b[1;33m:\u001b[0m\u001b[1;33m,\u001b[0m\u001b[1;33m:\u001b[0m\u001b[1;33m,\u001b[0m\u001b[0mindx_y\u001b[0m\u001b[1;33m,\u001b[0m\u001b[0mindx_x\u001b[0m\u001b[1;33m]\u001b[0m\u001b[1;33m,\u001b[0m\u001b[0maxis\u001b[0m\u001b[1;33m=\u001b[0m\u001b[1;36m3\u001b[0m\u001b[1;33m)\u001b[0m\u001b[1;33m\u001b[0m\u001b[1;33m\u001b[0m\u001b[0m\n\u001b[0m\u001b[0;32m      3\u001b[0m \u001b[0mrh2m\u001b[0m \u001b[1;33m=\u001b[0m \u001b[0msel_ds\u001b[0m\u001b[1;33m.\u001b[0m\u001b[0mrelative_humidity_2m\u001b[0m\u001b[1;33m.\u001b[0m\u001b[0mvalues\u001b[0m\u001b[1;33m\u001b[0m\u001b[1;33m\u001b[0m\u001b[0m\n\u001b[0;32m      4\u001b[0m \u001b[0mrh2m\u001b[0m \u001b[1;33m=\u001b[0m \u001b[0mnp\u001b[0m\u001b[1;33m.\u001b[0m\u001b[0mnanmean\u001b[0m\u001b[1;33m(\u001b[0m\u001b[0mrh2m\u001b[0m\u001b[1;33m[\u001b[0m\u001b[1;33m:\u001b[0m\u001b[1;33m,\u001b[0m\u001b[1;33m:\u001b[0m\u001b[1;33m,\u001b[0m\u001b[1;33m:\u001b[0m\u001b[1;33m,\u001b[0m\u001b[0mindx_y\u001b[0m\u001b[1;33m,\u001b[0m\u001b[0mindx_x\u001b[0m\u001b[1;33m]\u001b[0m\u001b[1;33m,\u001b[0m\u001b[0maxis\u001b[0m\u001b[1;33m=\u001b[0m\u001b[1;36m3\u001b[0m\u001b[1;33m)\u001b[0m\u001b[1;33m\u001b[0m\u001b[1;33m\u001b[0m\u001b[0m\n\u001b[0;32m      5\u001b[0m \u001b[1;33m\u001b[0m\u001b[0m\n",
      "\u001b[1;31mIndexError\u001b[0m: index 351 is out of bounds for axis 3 with size 5"
     ]
    }
   ],
   "source": [
    "t2m = sel_ds.air_temperature_2m.values\n",
    "t2m_mean = np.nanmean(t2m[:,:,:,indx_y,indx_x],axis=3)\n",
    "rh2m = sel_ds.relative_humidity_2m.values\n",
    "rh2m = np.nanmean(rh2m[:,:,:,indx_y,indx_x],axis=3)\n",
    "\n",
    "dataset=xr.Dataset(data_vars={t2m:(('time','ensemble'),t2m_mean),rh2m:(('time','ensemble'),rh2m_mean)}\\\n",
    "                   ,coords={'time':sel_ds.time,'ensemble_member':sel_ds})\n",
    "dataset.t2m.attrs[\"units\"] = 'K'\n",
    "dataset.rh2m.attrs['units'] = '%'\n",
    "pathoutx='Mean.nc'\n",
    "dataset.to_netcdf(path=pathoutx,mode='w')\n",
    "\n",
    "dataset"
   ]
  }
 ],
 "metadata": {
  "kernelspec": {
   "display_name": "Python 3 (ipykernel)",
   "language": "python",
   "name": "python3"
  },
  "language_info": {
   "codemirror_mode": {
    "name": "ipython",
    "version": 3
   },
   "file_extension": ".py",
   "mimetype": "text/x-python",
   "name": "python",
   "nbconvert_exporter": "python",
   "pygments_lexer": "ipython3",
   "version": "3.8.12"
  }
 },
 "nbformat": 4,
 "nbformat_minor": 5
}
